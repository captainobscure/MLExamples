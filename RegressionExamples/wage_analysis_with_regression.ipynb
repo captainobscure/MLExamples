{
 "cells": [
  {
   "cell_type": "markdown",
   "metadata": {},
   "source": [
    "## Regression Analysis Examples\n",
    "\n",
    "using data from https://vincentarelbundock.github.io/Rdatasets/articles/data.html, Determinants of Wages Data (CPS 1988)."
   ]
  },
  {
   "cell_type": "code",
   "execution_count": 24,
   "metadata": {},
   "outputs": [],
   "source": [
    "import pandas as pd\n",
    "import numpy as np\n",
    "import sklearn\n",
    "import matplotlib.pyplot as plt\n",
    "from sklearn.linear_model import LinearRegression\n",
    "from sklearn.linear_model import SGDRegressor\n",
    "from sklearn.linear_model import Lasso\n",
    "from sklearn.linear_model import Ridge\n",
    "from sklearn.model_selection import train_test_split\n",
    "from sklearn.metrics import mean_squared_error\n",
    "from sklearn.metrics import r2_score\n",
    "from sklearn.pipeline import make_pipeline\n",
    "from sklearn.preprocessing import PolynomialFeatures\n",
    "from sklearn.preprocessing import StandardScaler\n",
    "from sklearn.model_selection import GridSearchCV"
   ]
  },
  {
   "cell_type": "markdown",
   "metadata": {},
   "source": [
    "### Data Pre-processing"
   ]
  },
  {
   "cell_type": "code",
   "execution_count": 4,
   "metadata": {},
   "outputs": [
    {
     "name": "stdout",
     "output_type": "stream",
     "text": [
      "wage          float64\n",
      "education       int64\n",
      "experience      int64\n",
      "ethnicity        int8\n",
      "smsa             int8\n",
      "region           int8\n",
      "parttime         int8\n",
      "dtype: object\n"
     ]
    },
    {
     "data": {
      "text/html": [
       "<div>\n",
       "<style scoped>\n",
       "    .dataframe tbody tr th:only-of-type {\n",
       "        vertical-align: middle;\n",
       "    }\n",
       "\n",
       "    .dataframe tbody tr th {\n",
       "        vertical-align: top;\n",
       "    }\n",
       "\n",
       "    .dataframe thead th {\n",
       "        text-align: right;\n",
       "    }\n",
       "</style>\n",
       "<table border=\"1\" class=\"dataframe\">\n",
       "  <thead>\n",
       "    <tr style=\"text-align: right;\">\n",
       "      <th></th>\n",
       "      <th>wage</th>\n",
       "      <th>education</th>\n",
       "      <th>experience</th>\n",
       "      <th>ethnicity</th>\n",
       "      <th>smsa</th>\n",
       "      <th>region</th>\n",
       "      <th>parttime</th>\n",
       "    </tr>\n",
       "  </thead>\n",
       "  <tbody>\n",
       "    <tr>\n",
       "      <th>0</th>\n",
       "      <td>354.94</td>\n",
       "      <td>7</td>\n",
       "      <td>45</td>\n",
       "      <td>1</td>\n",
       "      <td>1</td>\n",
       "      <td>1</td>\n",
       "      <td>0</td>\n",
       "    </tr>\n",
       "    <tr>\n",
       "      <th>1</th>\n",
       "      <td>123.46</td>\n",
       "      <td>12</td>\n",
       "      <td>1</td>\n",
       "      <td>1</td>\n",
       "      <td>1</td>\n",
       "      <td>1</td>\n",
       "      <td>1</td>\n",
       "    </tr>\n",
       "    <tr>\n",
       "      <th>2</th>\n",
       "      <td>370.37</td>\n",
       "      <td>9</td>\n",
       "      <td>9</td>\n",
       "      <td>1</td>\n",
       "      <td>1</td>\n",
       "      <td>1</td>\n",
       "      <td>0</td>\n",
       "    </tr>\n",
       "    <tr>\n",
       "      <th>3</th>\n",
       "      <td>754.94</td>\n",
       "      <td>11</td>\n",
       "      <td>46</td>\n",
       "      <td>1</td>\n",
       "      <td>1</td>\n",
       "      <td>1</td>\n",
       "      <td>0</td>\n",
       "    </tr>\n",
       "    <tr>\n",
       "      <th>4</th>\n",
       "      <td>593.54</td>\n",
       "      <td>12</td>\n",
       "      <td>36</td>\n",
       "      <td>1</td>\n",
       "      <td>1</td>\n",
       "      <td>1</td>\n",
       "      <td>0</td>\n",
       "    </tr>\n",
       "  </tbody>\n",
       "</table>\n",
       "</div>"
      ],
      "text/plain": [
       "     wage  education  experience  ethnicity  smsa  region  parttime\n",
       "0  354.94          7          45          1     1       1         0\n",
       "1  123.46         12           1          1     1       1         1\n",
       "2  370.37          9           9          1     1       1         0\n",
       "3  754.94         11          46          1     1       1         0\n",
       "4  593.54         12          36          1     1       1         0"
      ]
     },
     "execution_count": 4,
     "metadata": {},
     "output_type": "execute_result"
    }
   ],
   "source": [
    "df = pd.read_csv('CPS1988.csv')\n",
    "df = df.drop(['Unnamed: 0'], axis=1)\n",
    "\n",
    "cat_cols = ['ethnicity','smsa','region','parttime']\n",
    "df[cat_cols] =df[cat_cols].astype('category')\n",
    "df[cat_cols] = df[cat_cols].apply(lambda x: x.cat.codes)\n",
    "print(df.dtypes)\n",
    "df.head()"
   ]
  },
  {
   "cell_type": "markdown",
   "metadata": {},
   "source": [
    "One-hot encode and display for visual check"
   ]
  },
  {
   "cell_type": "code",
   "execution_count": 5,
   "metadata": {},
   "outputs": [
    {
     "data": {
      "text/html": [
       "<div>\n",
       "<style scoped>\n",
       "    .dataframe tbody tr th:only-of-type {\n",
       "        vertical-align: middle;\n",
       "    }\n",
       "\n",
       "    .dataframe tbody tr th {\n",
       "        vertical-align: top;\n",
       "    }\n",
       "\n",
       "    .dataframe thead th {\n",
       "        text-align: right;\n",
       "    }\n",
       "</style>\n",
       "<table border=\"1\" class=\"dataframe\">\n",
       "  <thead>\n",
       "    <tr style=\"text-align: right;\">\n",
       "      <th></th>\n",
       "      <th>wage</th>\n",
       "      <th>education</th>\n",
       "      <th>experience</th>\n",
       "      <th>ethnicity</th>\n",
       "      <th>smsa</th>\n",
       "      <th>parttime</th>\n",
       "      <th>region_0</th>\n",
       "      <th>region_1</th>\n",
       "      <th>region_2</th>\n",
       "      <th>region_3</th>\n",
       "    </tr>\n",
       "  </thead>\n",
       "  <tbody>\n",
       "    <tr>\n",
       "      <th>0</th>\n",
       "      <td>354.94</td>\n",
       "      <td>7</td>\n",
       "      <td>45</td>\n",
       "      <td>1</td>\n",
       "      <td>1</td>\n",
       "      <td>0</td>\n",
       "      <td>0</td>\n",
       "      <td>1</td>\n",
       "      <td>0</td>\n",
       "      <td>0</td>\n",
       "    </tr>\n",
       "    <tr>\n",
       "      <th>1</th>\n",
       "      <td>123.46</td>\n",
       "      <td>12</td>\n",
       "      <td>1</td>\n",
       "      <td>1</td>\n",
       "      <td>1</td>\n",
       "      <td>1</td>\n",
       "      <td>0</td>\n",
       "      <td>1</td>\n",
       "      <td>0</td>\n",
       "      <td>0</td>\n",
       "    </tr>\n",
       "    <tr>\n",
       "      <th>2</th>\n",
       "      <td>370.37</td>\n",
       "      <td>9</td>\n",
       "      <td>9</td>\n",
       "      <td>1</td>\n",
       "      <td>1</td>\n",
       "      <td>0</td>\n",
       "      <td>0</td>\n",
       "      <td>1</td>\n",
       "      <td>0</td>\n",
       "      <td>0</td>\n",
       "    </tr>\n",
       "    <tr>\n",
       "      <th>3</th>\n",
       "      <td>754.94</td>\n",
       "      <td>11</td>\n",
       "      <td>46</td>\n",
       "      <td>1</td>\n",
       "      <td>1</td>\n",
       "      <td>0</td>\n",
       "      <td>0</td>\n",
       "      <td>1</td>\n",
       "      <td>0</td>\n",
       "      <td>0</td>\n",
       "    </tr>\n",
       "    <tr>\n",
       "      <th>4</th>\n",
       "      <td>593.54</td>\n",
       "      <td>12</td>\n",
       "      <td>36</td>\n",
       "      <td>1</td>\n",
       "      <td>1</td>\n",
       "      <td>0</td>\n",
       "      <td>0</td>\n",
       "      <td>1</td>\n",
       "      <td>0</td>\n",
       "      <td>0</td>\n",
       "    </tr>\n",
       "  </tbody>\n",
       "</table>\n",
       "</div>"
      ],
      "text/plain": [
       "     wage  education  experience  ethnicity  smsa  parttime  region_0  \\\n",
       "0  354.94          7          45          1     1         0         0   \n",
       "1  123.46         12           1          1     1         1         0   \n",
       "2  370.37          9           9          1     1         0         0   \n",
       "3  754.94         11          46          1     1         0         0   \n",
       "4  593.54         12          36          1     1         0         0   \n",
       "\n",
       "   region_1  region_2  region_3  \n",
       "0         1         0         0  \n",
       "1         1         0         0  \n",
       "2         1         0         0  \n",
       "3         1         0         0  \n",
       "4         1         0         0  "
      ]
     },
     "execution_count": 5,
     "metadata": {},
     "output_type": "execute_result"
    }
   ],
   "source": [
    "df = pd.get_dummies(df, columns=['region'])\n",
    "df.head()"
   ]
  },
  {
   "cell_type": "markdown",
   "metadata": {},
   "source": [
    "#### Train/Test Split"
   ]
  },
  {
   "cell_type": "code",
   "execution_count": 8,
   "metadata": {},
   "outputs": [],
   "source": [
    "X_train, X_test, y_train, y_test = train_test_split(df.drop('wage',axis=1),df.wage)"
   ]
  },
  {
   "cell_type": "markdown",
   "metadata": {},
   "source": [
    "#### Linear Regression"
   ]
  },
  {
   "cell_type": "code",
   "execution_count": 12,
   "metadata": {},
   "outputs": [
    {
     "name": "stdout",
     "output_type": "stream",
     "text": [
      "MSE Train: 155137.8448844423\n",
      "MSE Test: 157441.77771282007\n",
      "r2 Train: 0.24855475114140502\n",
      "r2 Test: 0.2252785728368033\n"
     ]
    }
   ],
   "source": [
    "lr = LinearRegression()\n",
    "lr.fit(X_train, y_train)\n",
    "print( \"MSE Train: {}\".format(mean_squared_error(y_train, lr.predict(X_train))))\n",
    "print( \"MSE Test: {}\".format(mean_squared_error(y_test, lr.predict(X_test))))\n",
    "\n",
    "print( \"r2 Train: {}\".format(r2_score(y_train, lr.predict(X_train))))\n",
    "print( \"r2 Test: {}\".format(r2_score(y_test, lr.predict(X_test))))"
   ]
  },
  {
   "cell_type": "markdown",
   "metadata": {},
   "source": [
    "Tune Linear Regression"
   ]
  },
  {
   "cell_type": "code",
   "execution_count": 19,
   "metadata": {},
   "outputs": [
    {
     "name": "stdout",
     "output_type": "stream",
     "text": [
      "MSE Train: 146451.94364748526\n",
      "MSE Test: 147585.03879117838\n",
      "r2 Train: 0.290626878812304\n",
      "r2 Test: 0.27378048227584717\n"
     ]
    }
   ],
   "source": [
    "lr_pipe = make_pipeline(PolynomialFeatures(2), StandardScaler(), LinearRegression())\n",
    "lr_pipe.fit(X_train, y_train)\n",
    "\n",
    "print( \"MSE Train: {}\".format(mean_squared_error(y_train, lr_pipe.predict(X_train))))\n",
    "print( \"MSE Test: {}\".format(mean_squared_error(y_test, lr_pipe.predict(X_test))))\n",
    "\n",
    "print( \"r2 Train: {}\".format(r2_score(y_train, lr_pipe.predict(X_train))))\n",
    "print( \"r2 Test: {}\".format(r2_score(y_test, lr_pipe.predict(X_test))))"
   ]
  },
  {
   "cell_type": "code",
   "execution_count": 25,
   "metadata": {},
   "outputs": [
    {
     "name": "stdout",
     "output_type": "stream",
     "text": [
      "dict_keys(['memory', 'steps', 'verbose', 'polynomialfeatures', 'standardscaler', 'linearregression', 'polynomialfeatures__degree', 'polynomialfeatures__include_bias', 'polynomialfeatures__interaction_only', 'polynomialfeatures__order', 'standardscaler__copy', 'standardscaler__with_mean', 'standardscaler__with_std', 'linearregression__copy_X', 'linearregression__fit_intercept', 'linearregression__n_jobs', 'linearregression__normalize', 'linearregression__positive'])\n"
     ]
    },
    {
     "data": {
      "text/plain": [
       "GridSearchCV(cv=5,\n",
       "             estimator=Pipeline(steps=[('polynomialfeatures',\n",
       "                                        PolynomialFeatures()),\n",
       "                                       ('standardscaler', StandardScaler()),\n",
       "                                       ('linearregression',\n",
       "                                        LinearRegression())]),\n",
       "             param_grid=[{'polynomialfeatures__degree': [1, 2, 3],\n",
       "                          'polynomialfeatures__interaction_only': [True,\n",
       "                                                                   False]}],\n",
       "             return_train_score=True, scoring='neg_mean_squared_error')"
      ]
     },
     "execution_count": 25,
     "metadata": {},
     "output_type": "execute_result"
    }
   ],
   "source": [
    "print(lr_pipe.get_params().keys())\n",
    "param_grid = [{'polynomialfeatures__interaction_only': [True,False], \n",
    "               'polynomialfeatures__degree': [1,2,3]}]\n",
    "\n",
    "grid_search = GridSearchCV(lr_pipe,param_grid, cv=5, scoring='neg_mean_squared_error',return_train_score=True,verbose=0)\n",
    "grid_search.fit(X_train, y_train)"
   ]
  },
  {
   "cell_type": "code",
   "execution_count": 26,
   "metadata": {},
   "outputs": [
    {
     "name": "stdout",
     "output_type": "stream",
     "text": [
      "{'polynomialfeatures__degree': 2, 'polynomialfeatures__interaction_only': False}\n",
      "MSE Train: 146451.94364748526\n",
      "MSE Test: 147585.03879117838\n",
      "r2 Train: 0.290626878812304\n",
      "r2 Test: 0.27378048227584717\n"
     ]
    }
   ],
   "source": [
    "best_lr=grid_search.best_estimator_\n",
    "print(grid_search.best_params_)\n",
    "print( \"MSE Train: {}\".format(mean_squared_error(y_train, best_lr.predict(X_train))))\n",
    "print( \"MSE Test: {}\".format(mean_squared_error(y_test, best_lr.predict(X_test))))\n",
    "\n",
    "print( \"r2 Train: {}\".format(r2_score(y_train, best_lr.predict(X_train))))\n",
    "print( \"r2 Test: {}\".format(r2_score(y_test, best_lr.predict(X_test))))"
   ]
  },
  {
   "cell_type": "markdown",
   "metadata": {},
   "source": [
    "### Lasso"
   ]
  },
  {
   "cell_type": "code",
   "execution_count": 28,
   "metadata": {},
   "outputs": [
    {
     "name": "stdout",
     "output_type": "stream",
     "text": [
      "MSE Train: 146995.83998569564\n",
      "MSE Test: 148295.27470198614\n",
      "r2 Train: 0.28799239385137\n",
      "r2 Test: 0.2702856349333127\n"
     ]
    }
   ],
   "source": [
    "lasso_pipe = make_pipeline(PolynomialFeatures(2), StandardScaler(), Lasso())\n",
    "lasso_pipe.fit(X_train, y_train)\n",
    "print( \"MSE Train: {}\".format(mean_squared_error(y_train, lasso_pipe.predict(X_train))))\n",
    "print( \"MSE Test: {}\".format(mean_squared_error(y_test, lasso_pipe.predict(X_test))))\n",
    "\n",
    "print( \"r2 Train: {}\".format(r2_score(y_train, lasso_pipe.predict(X_train))))\n",
    "print( \"r2 Test: {}\".format(r2_score(y_test, lasso_pipe.predict(X_test))))"
   ]
  },
  {
   "cell_type": "markdown",
   "metadata": {},
   "source": [
    "### Ridge"
   ]
  },
  {
   "cell_type": "code",
   "execution_count": 29,
   "metadata": {},
   "outputs": [
    {
     "name": "stdout",
     "output_type": "stream",
     "text": [
      "MSE Train: 146451.0848457076\n",
      "MSE Test: 147585.85701403703\n",
      "r2 Train: 0.29063103861300255\n",
      "r2 Test: 0.27377645605872736\n"
     ]
    }
   ],
   "source": [
    "ridge_pipe = make_pipeline(PolynomialFeatures(2), StandardScaler(), Ridge())\n",
    "ridge_pipe.fit(X_train, y_train)\n",
    "print( \"MSE Train: {}\".format(mean_squared_error(y_train, ridge_pipe.predict(X_train))))\n",
    "print( \"MSE Test: {}\".format(mean_squared_error(y_test, ridge_pipe.predict(X_test))))\n",
    "\n",
    "print( \"r2 Train: {}\".format(r2_score(y_train, ridge_pipe.predict(X_train))))\n",
    "print( \"r2 Test: {}\".format(r2_score(y_test, ridge_pipe.predict(X_test))))\n"
   ]
  },
  {
   "cell_type": "markdown",
   "metadata": {},
   "source": [
    "### Lasso with Grid Search"
   ]
  },
  {
   "cell_type": "code",
   "execution_count": 32,
   "metadata": {},
   "outputs": [
    {
     "name": "stderr",
     "output_type": "stream",
     "text": [
      "C:\\Users\\patri\\anaconda3\\lib\\site-packages\\sklearn\\linear_model\\_coordinate_descent.py:530: ConvergenceWarning: Objective did not converge. You might want to increase the number of iterations. Duality gap: 342866299.32220054, tolerance: 361299.6285164941\n",
      "  model = cd_fast.enet_coordinate_descent(\n",
      "C:\\Users\\patri\\anaconda3\\lib\\site-packages\\sklearn\\linear_model\\_coordinate_descent.py:530: ConvergenceWarning: Objective did not converge. You might want to increase the number of iterations. Duality gap: 347258647.1161797, tolerance: 362878.7618735275\n",
      "  model = cd_fast.enet_coordinate_descent(\n",
      "C:\\Users\\patri\\anaconda3\\lib\\site-packages\\sklearn\\linear_model\\_coordinate_descent.py:530: ConvergenceWarning: Objective did not converge. You might want to increase the number of iterations. Duality gap: 317944081.14920306, tolerance: 337078.58202624036\n",
      "  model = cd_fast.enet_coordinate_descent(\n",
      "C:\\Users\\patri\\anaconda3\\lib\\site-packages\\sklearn\\linear_model\\_coordinate_descent.py:530: ConvergenceWarning: Objective did not converge. You might want to increase the number of iterations. Duality gap: 346922822.12074876, tolerance: 361672.49557527143\n",
      "  model = cd_fast.enet_coordinate_descent(\n",
      "C:\\Users\\patri\\anaconda3\\lib\\site-packages\\sklearn\\linear_model\\_coordinate_descent.py:530: ConvergenceWarning: Objective did not converge. You might want to increase the number of iterations. Duality gap: 295266407.23800445, tolerance: 320824.36249666853\n",
      "  model = cd_fast.enet_coordinate_descent(\n",
      "C:\\Users\\patri\\anaconda3\\lib\\site-packages\\sklearn\\linear_model\\_coordinate_descent.py:530: ConvergenceWarning: Objective did not converge. You might want to increase the number of iterations. Duality gap: 391549256.6172159, tolerance: 361299.6285164941\n",
      "  model = cd_fast.enet_coordinate_descent(\n",
      "C:\\Users\\patri\\anaconda3\\lib\\site-packages\\sklearn\\linear_model\\_coordinate_descent.py:530: ConvergenceWarning: Objective did not converge. You might want to increase the number of iterations. Duality gap: 89640208.0918839, tolerance: 362878.7618735275\n",
      "  model = cd_fast.enet_coordinate_descent(\n",
      "C:\\Users\\patri\\anaconda3\\lib\\site-packages\\sklearn\\linear_model\\_coordinate_descent.py:530: ConvergenceWarning: Objective did not converge. You might want to increase the number of iterations. Duality gap: 361698012.6618923, tolerance: 337078.58202624036\n",
      "  model = cd_fast.enet_coordinate_descent(\n",
      "C:\\Users\\patri\\anaconda3\\lib\\site-packages\\sklearn\\linear_model\\_coordinate_descent.py:530: ConvergenceWarning: Objective did not converge. You might want to increase the number of iterations. Duality gap: 394716826.3440831, tolerance: 361672.49557527143\n",
      "  model = cd_fast.enet_coordinate_descent(\n",
      "C:\\Users\\patri\\anaconda3\\lib\\site-packages\\sklearn\\linear_model\\_coordinate_descent.py:530: ConvergenceWarning: Objective did not converge. You might want to increase the number of iterations. Duality gap: 334098264.20063186, tolerance: 320824.36249666853\n",
      "  model = cd_fast.enet_coordinate_descent(\n",
      "C:\\Users\\patri\\anaconda3\\lib\\site-packages\\sklearn\\linear_model\\_coordinate_descent.py:530: ConvergenceWarning: Objective did not converge. You might want to increase the number of iterations. Duality gap: 347399934.52014065, tolerance: 361299.6285164941\n",
      "  model = cd_fast.enet_coordinate_descent(\n",
      "C:\\Users\\patri\\anaconda3\\lib\\site-packages\\sklearn\\linear_model\\_coordinate_descent.py:530: ConvergenceWarning: Objective did not converge. You might want to increase the number of iterations. Duality gap: 347913100.62037086, tolerance: 362878.7618735275\n",
      "  model = cd_fast.enet_coordinate_descent(\n",
      "C:\\Users\\patri\\anaconda3\\lib\\site-packages\\sklearn\\linear_model\\_coordinate_descent.py:530: ConvergenceWarning: Objective did not converge. You might want to increase the number of iterations. Duality gap: 322781175.5740056, tolerance: 337078.58202624036\n",
      "  model = cd_fast.enet_coordinate_descent(\n",
      "C:\\Users\\patri\\anaconda3\\lib\\site-packages\\sklearn\\linear_model\\_coordinate_descent.py:530: ConvergenceWarning: Objective did not converge. You might want to increase the number of iterations. Duality gap: 49631516.02982664, tolerance: 361672.49557527143\n",
      "  model = cd_fast.enet_coordinate_descent(\n",
      "C:\\Users\\patri\\anaconda3\\lib\\site-packages\\sklearn\\linear_model\\_coordinate_descent.py:530: ConvergenceWarning: Objective did not converge. You might want to increase the number of iterations. Duality gap: 296898732.4647598, tolerance: 320824.36249666853\n",
      "  model = cd_fast.enet_coordinate_descent(\n",
      "C:\\Users\\patri\\anaconda3\\lib\\site-packages\\sklearn\\linear_model\\_coordinate_descent.py:530: ConvergenceWarning: Objective did not converge. You might want to increase the number of iterations. Duality gap: 540724771.2705002, tolerance: 361299.6285164941\n",
      "  model = cd_fast.enet_coordinate_descent(\n",
      "C:\\Users\\patri\\anaconda3\\lib\\site-packages\\sklearn\\linear_model\\_coordinate_descent.py:530: ConvergenceWarning: Objective did not converge. You might want to increase the number of iterations. Duality gap: 257665350.10052848, tolerance: 362878.7618735275\n",
      "  model = cd_fast.enet_coordinate_descent(\n",
      "C:\\Users\\patri\\anaconda3\\lib\\site-packages\\sklearn\\linear_model\\_coordinate_descent.py:530: ConvergenceWarning: Objective did not converge. You might want to increase the number of iterations. Duality gap: 348842651.03962064, tolerance: 337078.58202624036\n",
      "  model = cd_fast.enet_coordinate_descent(\n",
      "C:\\Users\\patri\\anaconda3\\lib\\site-packages\\sklearn\\linear_model\\_coordinate_descent.py:530: ConvergenceWarning: Objective did not converge. You might want to increase the number of iterations. Duality gap: 561517265.8055197, tolerance: 361672.49557527143\n",
      "  model = cd_fast.enet_coordinate_descent(\n",
      "C:\\Users\\patri\\anaconda3\\lib\\site-packages\\sklearn\\linear_model\\_coordinate_descent.py:530: ConvergenceWarning: Objective did not converge. You might want to increase the number of iterations. Duality gap: 353941296.73557603, tolerance: 320824.36249666853\n",
      "  model = cd_fast.enet_coordinate_descent(\n",
      "C:\\Users\\patri\\anaconda3\\lib\\site-packages\\sklearn\\linear_model\\_coordinate_descent.py:530: ConvergenceWarning: Objective did not converge. You might want to increase the number of iterations. Duality gap: 5723800.469015121, tolerance: 361299.6285164941\n",
      "  model = cd_fast.enet_coordinate_descent(\n",
      "C:\\Users\\patri\\anaconda3\\lib\\site-packages\\sklearn\\linear_model\\_coordinate_descent.py:530: ConvergenceWarning: Objective did not converge. You might want to increase the number of iterations. Duality gap: 7529213.365354538, tolerance: 362878.7618735275\n",
      "  model = cd_fast.enet_coordinate_descent(\n",
      "C:\\Users\\patri\\anaconda3\\lib\\site-packages\\sklearn\\linear_model\\_coordinate_descent.py:530: ConvergenceWarning: Objective did not converge. You might want to increase the number of iterations. Duality gap: 13391615.963562489, tolerance: 337078.58202624036\n",
      "  model = cd_fast.enet_coordinate_descent(\n",
      "C:\\Users\\patri\\anaconda3\\lib\\site-packages\\sklearn\\linear_model\\_coordinate_descent.py:530: ConvergenceWarning: Objective did not converge. You might want to increase the number of iterations. Duality gap: 2802707.0977101326, tolerance: 361672.49557527143\n",
      "  model = cd_fast.enet_coordinate_descent(\n",
      "C:\\Users\\patri\\anaconda3\\lib\\site-packages\\sklearn\\linear_model\\_coordinate_descent.py:530: ConvergenceWarning: Objective did not converge. You might want to increase the number of iterations. Duality gap: 12685129.790820599, tolerance: 320824.36249666853\n",
      "  model = cd_fast.enet_coordinate_descent(\n",
      "C:\\Users\\patri\\anaconda3\\lib\\site-packages\\sklearn\\linear_model\\_coordinate_descent.py:530: ConvergenceWarning: Objective did not converge. You might want to increase the number of iterations. Duality gap: 57333555.96793103, tolerance: 361299.6285164941\n",
      "  model = cd_fast.enet_coordinate_descent(\n",
      "C:\\Users\\patri\\anaconda3\\lib\\site-packages\\sklearn\\linear_model\\_coordinate_descent.py:530: ConvergenceWarning: Objective did not converge. You might want to increase the number of iterations. Duality gap: 15371376.695165157, tolerance: 362878.7618735275\n",
      "  model = cd_fast.enet_coordinate_descent(\n",
      "C:\\Users\\patri\\anaconda3\\lib\\site-packages\\sklearn\\linear_model\\_coordinate_descent.py:530: ConvergenceWarning: Objective did not converge. You might want to increase the number of iterations. Duality gap: 19958604.679311514, tolerance: 337078.58202624036\n",
      "  model = cd_fast.enet_coordinate_descent(\n"
     ]
    },
    {
     "name": "stderr",
     "output_type": "stream",
     "text": [
      "C:\\Users\\patri\\anaconda3\\lib\\site-packages\\sklearn\\linear_model\\_coordinate_descent.py:530: ConvergenceWarning: Objective did not converge. You might want to increase the number of iterations. Duality gap: 48065089.28788495, tolerance: 361672.49557527143\n",
      "  model = cd_fast.enet_coordinate_descent(\n",
      "C:\\Users\\patri\\anaconda3\\lib\\site-packages\\sklearn\\linear_model\\_coordinate_descent.py:530: ConvergenceWarning: Objective did not converge. You might want to increase the number of iterations. Duality gap: 22810008.66395259, tolerance: 320824.36249666853\n",
      "  model = cd_fast.enet_coordinate_descent(\n",
      "C:\\Users\\patri\\anaconda3\\lib\\site-packages\\sklearn\\linear_model\\_coordinate_descent.py:530: ConvergenceWarning: Objective did not converge. You might want to increase the number of iterations. Duality gap: 1155702.9699363708, tolerance: 362878.7618735275\n",
      "  model = cd_fast.enet_coordinate_descent(\n",
      "C:\\Users\\patri\\anaconda3\\lib\\site-packages\\sklearn\\linear_model\\_coordinate_descent.py:530: ConvergenceWarning: Objective did not converge. You might want to increase the number of iterations. Duality gap: 1177002.4858140945, tolerance: 337078.58202624036\n",
      "  model = cd_fast.enet_coordinate_descent(\n",
      "C:\\Users\\patri\\anaconda3\\lib\\site-packages\\sklearn\\linear_model\\_coordinate_descent.py:530: ConvergenceWarning: Objective did not converge. You might want to increase the number of iterations. Duality gap: 5715789.798093796, tolerance: 320824.36249666853\n",
      "  model = cd_fast.enet_coordinate_descent(\n",
      "C:\\Users\\patri\\anaconda3\\lib\\site-packages\\sklearn\\linear_model\\_coordinate_descent.py:530: ConvergenceWarning: Objective did not converge. You might want to increase the number of iterations. Duality gap: 11006034.851171017, tolerance: 361299.6285164941\n",
      "  model = cd_fast.enet_coordinate_descent(\n",
      "C:\\Users\\patri\\anaconda3\\lib\\site-packages\\sklearn\\linear_model\\_coordinate_descent.py:530: ConvergenceWarning: Objective did not converge. You might want to increase the number of iterations. Duality gap: 30045613.88684988, tolerance: 362878.7618735275\n",
      "  model = cd_fast.enet_coordinate_descent(\n",
      "C:\\Users\\patri\\anaconda3\\lib\\site-packages\\sklearn\\linear_model\\_coordinate_descent.py:530: ConvergenceWarning: Objective did not converge. You might want to increase the number of iterations. Duality gap: 5848223.245295525, tolerance: 337078.58202624036\n",
      "  model = cd_fast.enet_coordinate_descent(\n",
      "C:\\Users\\patri\\anaconda3\\lib\\site-packages\\sklearn\\linear_model\\_coordinate_descent.py:530: ConvergenceWarning: Objective did not converge. You might want to increase the number of iterations. Duality gap: 19362114.058033466, tolerance: 361672.49557527143\n",
      "  model = cd_fast.enet_coordinate_descent(\n",
      "C:\\Users\\patri\\anaconda3\\lib\\site-packages\\sklearn\\linear_model\\_coordinate_descent.py:530: ConvergenceWarning: Objective did not converge. You might want to increase the number of iterations. Duality gap: 4443924.556175232, tolerance: 320824.36249666853\n",
      "  model = cd_fast.enet_coordinate_descent(\n",
      "C:\\Users\\patri\\anaconda3\\lib\\site-packages\\sklearn\\linear_model\\_coordinate_descent.py:530: ConvergenceWarning: Objective did not converge. You might want to increase the number of iterations. Duality gap: 465853.7145009041, tolerance: 362878.7618735275\n",
      "  model = cd_fast.enet_coordinate_descent(\n",
      "C:\\Users\\patri\\anaconda3\\lib\\site-packages\\sklearn\\linear_model\\_coordinate_descent.py:530: ConvergenceWarning: Objective did not converge. You might want to increase the number of iterations. Duality gap: 1130826.602145195, tolerance: 337078.58202624036\n",
      "  model = cd_fast.enet_coordinate_descent(\n",
      "C:\\Users\\patri\\anaconda3\\lib\\site-packages\\sklearn\\linear_model\\_coordinate_descent.py:530: ConvergenceWarning: Objective did not converge. You might want to increase the number of iterations. Duality gap: 1803817.3204140663, tolerance: 320824.36249666853\n",
      "  model = cd_fast.enet_coordinate_descent(\n",
      "C:\\Users\\patri\\anaconda3\\lib\\site-packages\\sklearn\\linear_model\\_coordinate_descent.py:530: ConvergenceWarning: Objective did not converge. You might want to increase the number of iterations. Duality gap: 584163.4021272659, tolerance: 361299.6285164941\n",
      "  model = cd_fast.enet_coordinate_descent(\n",
      "C:\\Users\\patri\\anaconda3\\lib\\site-packages\\sklearn\\linear_model\\_coordinate_descent.py:530: ConvergenceWarning: Objective did not converge. You might want to increase the number of iterations. Duality gap: 15108571.551023006, tolerance: 362878.7618735275\n",
      "  model = cd_fast.enet_coordinate_descent(\n",
      "C:\\Users\\patri\\anaconda3\\lib\\site-packages\\sklearn\\linear_model\\_coordinate_descent.py:530: ConvergenceWarning: Objective did not converge. You might want to increase the number of iterations. Duality gap: 8664612.953437805, tolerance: 337078.58202624036\n",
      "  model = cd_fast.enet_coordinate_descent(\n",
      "C:\\Users\\patri\\anaconda3\\lib\\site-packages\\sklearn\\linear_model\\_coordinate_descent.py:530: ConvergenceWarning: Objective did not converge. You might want to increase the number of iterations. Duality gap: 10347667.696147919, tolerance: 361672.49557527143\n",
      "  model = cd_fast.enet_coordinate_descent(\n",
      "C:\\Users\\patri\\anaconda3\\lib\\site-packages\\sklearn\\linear_model\\_coordinate_descent.py:530: ConvergenceWarning: Objective did not converge. You might want to increase the number of iterations. Duality gap: 5649140.042514086, tolerance: 320824.36249666853\n",
      "  model = cd_fast.enet_coordinate_descent(\n",
      "C:\\Users\\patri\\anaconda3\\lib\\site-packages\\sklearn\\linear_model\\_coordinate_descent.py:530: ConvergenceWarning: Objective did not converge. You might want to increase the number of iterations. Duality gap: 368361.98620557785, tolerance: 337078.58202624036\n",
      "  model = cd_fast.enet_coordinate_descent(\n",
      "C:\\Users\\patri\\anaconda3\\lib\\site-packages\\sklearn\\linear_model\\_coordinate_descent.py:530: ConvergenceWarning: Objective did not converge. You might want to increase the number of iterations. Duality gap: 381189.986515522, tolerance: 361299.6285164941\n",
      "  model = cd_fast.enet_coordinate_descent(\n",
      "C:\\Users\\patri\\anaconda3\\lib\\site-packages\\sklearn\\linear_model\\_coordinate_descent.py:530: ConvergenceWarning: Objective did not converge. You might want to increase the number of iterations. Duality gap: 2584343.3551421165, tolerance: 362878.7618735275\n",
      "  model = cd_fast.enet_coordinate_descent(\n",
      "C:\\Users\\patri\\anaconda3\\lib\\site-packages\\sklearn\\linear_model\\_coordinate_descent.py:530: ConvergenceWarning: Objective did not converge. You might want to increase the number of iterations. Duality gap: 1396751.8950977325, tolerance: 337078.58202624036\n",
      "  model = cd_fast.enet_coordinate_descent(\n",
      "C:\\Users\\patri\\anaconda3\\lib\\site-packages\\sklearn\\linear_model\\_coordinate_descent.py:530: ConvergenceWarning: Objective did not converge. You might want to increase the number of iterations. Duality gap: 5782462.10462141, tolerance: 361672.49557527143\n",
      "  model = cd_fast.enet_coordinate_descent(\n",
      "C:\\Users\\patri\\anaconda3\\lib\\site-packages\\sklearn\\linear_model\\_coordinate_descent.py:530: ConvergenceWarning: Objective did not converge. You might want to increase the number of iterations. Duality gap: 1832238.6961636543, tolerance: 320824.36249666853\n",
      "  model = cd_fast.enet_coordinate_descent(\n",
      "C:\\Users\\patri\\anaconda3\\lib\\site-packages\\sklearn\\linear_model\\_coordinate_descent.py:530: ConvergenceWarning: Objective did not converge. You might want to increase the number of iterations. Duality gap: 384971.8112812042, tolerance: 361299.6285164941\n",
      "  model = cd_fast.enet_coordinate_descent(\n",
      "C:\\Users\\patri\\anaconda3\\lib\\site-packages\\sklearn\\linear_model\\_coordinate_descent.py:530: ConvergenceWarning: Objective did not converge. You might want to increase the number of iterations. Duality gap: 469007.05683755875, tolerance: 362878.7618735275\n",
      "  model = cd_fast.enet_coordinate_descent(\n",
      "C:\\Users\\patri\\anaconda3\\lib\\site-packages\\sklearn\\linear_model\\_coordinate_descent.py:530: ConvergenceWarning: Objective did not converge. You might want to increase the number of iterations. Duality gap: 1016792.4858398438, tolerance: 337078.58202624036\n",
      "  model = cd_fast.enet_coordinate_descent(\n",
      "C:\\Users\\patri\\anaconda3\\lib\\site-packages\\sklearn\\linear_model\\_coordinate_descent.py:530: ConvergenceWarning: Objective did not converge. You might want to increase the number of iterations. Duality gap: 3542326.8831396103, tolerance: 361672.49557527143\n",
      "  model = cd_fast.enet_coordinate_descent(\n"
     ]
    },
    {
     "name": "stderr",
     "output_type": "stream",
     "text": [
      "C:\\Users\\patri\\anaconda3\\lib\\site-packages\\sklearn\\linear_model\\_coordinate_descent.py:530: ConvergenceWarning: Objective did not converge. You might want to increase the number of iterations. Duality gap: 611467.7329645157, tolerance: 320824.36249666853\n",
      "  model = cd_fast.enet_coordinate_descent(\n",
      "C:\\Users\\patri\\anaconda3\\lib\\site-packages\\sklearn\\linear_model\\_coordinate_descent.py:530: ConvergenceWarning: Objective did not converge. You might want to increase the number of iterations. Duality gap: 709817.1972723007, tolerance: 337078.58202624036\n",
      "  model = cd_fast.enet_coordinate_descent(\n",
      "C:\\Users\\patri\\anaconda3\\lib\\site-packages\\sklearn\\linear_model\\_coordinate_descent.py:530: ConvergenceWarning: Objective did not converge. You might want to increase the number of iterations. Duality gap: 2651530.891442299, tolerance: 361672.49557527143\n",
      "  model = cd_fast.enet_coordinate_descent(\n",
      "C:\\Users\\patri\\anaconda3\\lib\\site-packages\\sklearn\\linear_model\\_coordinate_descent.py:530: ConvergenceWarning: Objective did not converge. You might want to increase the number of iterations. Duality gap: 376506.78746652603, tolerance: 320824.36249666853\n",
      "  model = cd_fast.enet_coordinate_descent(\n",
      "C:\\Users\\patri\\anaconda3\\lib\\site-packages\\sklearn\\linear_model\\_coordinate_descent.py:530: ConvergenceWarning: Objective did not converge. You might want to increase the number of iterations. Duality gap: 596239.1534295082, tolerance: 337078.58202624036\n",
      "  model = cd_fast.enet_coordinate_descent(\n",
      "C:\\Users\\patri\\anaconda3\\lib\\site-packages\\sklearn\\linear_model\\_coordinate_descent.py:530: ConvergenceWarning: Objective did not converge. You might want to increase the number of iterations. Duality gap: 1830021.379667759, tolerance: 361672.49557527143\n",
      "  model = cd_fast.enet_coordinate_descent(\n",
      "C:\\Users\\patri\\anaconda3\\lib\\site-packages\\sklearn\\linear_model\\_coordinate_descent.py:530: ConvergenceWarning: Objective did not converge. You might want to increase the number of iterations. Duality gap: 518212.73636865616, tolerance: 337078.58202624036\n",
      "  model = cd_fast.enet_coordinate_descent(\n",
      "C:\\Users\\patri\\anaconda3\\lib\\site-packages\\sklearn\\linear_model\\_coordinate_descent.py:530: ConvergenceWarning: Objective did not converge. You might want to increase the number of iterations. Duality gap: 1185923.053483963, tolerance: 361672.49557527143\n",
      "  model = cd_fast.enet_coordinate_descent(\n",
      "C:\\Users\\patri\\anaconda3\\lib\\site-packages\\sklearn\\linear_model\\_coordinate_descent.py:530: ConvergenceWarning: Objective did not converge. You might want to increase the number of iterations. Duality gap: 454121.30706739426, tolerance: 337078.58202624036\n",
      "  model = cd_fast.enet_coordinate_descent(\n",
      "C:\\Users\\patri\\anaconda3\\lib\\site-packages\\sklearn\\linear_model\\_coordinate_descent.py:530: ConvergenceWarning: Objective did not converge. You might want to increase the number of iterations. Duality gap: 31323807.691555023, tolerance: 435945.364955835\n",
      "  model = cd_fast.enet_coordinate_descent(\n"
     ]
    },
    {
     "data": {
      "text/plain": [
       "GridSearchCV(cv=5,\n",
       "             estimator=Pipeline(steps=[('polynomialfeatures',\n",
       "                                        PolynomialFeatures()),\n",
       "                                       ('standardscaler', StandardScaler()),\n",
       "                                       ('lasso', Lasso())]),\n",
       "             param_grid=[{'lasso__alpha': [0.1, 0.2, 0.3, 0.4, 0.5, 0.6, 0.7,\n",
       "                                           0.8, 0.9, 1.0],\n",
       "                          'polynomialfeatures__degree': [1, 2, 3],\n",
       "                          'polynomialfeatures__interaction_only': [True,\n",
       "                                                                   False]}],\n",
       "             return_train_score=True, scoring='neg_mean_squared_error')"
      ]
     },
     "execution_count": 32,
     "metadata": {},
     "output_type": "execute_result"
    }
   ],
   "source": [
    "lasso_pipe = make_pipeline(PolynomialFeatures(2), StandardScaler(), Lasso())\n",
    "# print(lasso_pipe.get_params().keys())\n",
    "param_grid = [{'polynomialfeatures__interaction_only': [True,False], \n",
    "               'polynomialfeatures__degree': [1,2,3],\n",
    "               'lasso__alpha': [0.1,0.2,0.3,0.4,0.5,0.6,0.7,0.8,0.9,1.0]\n",
    "              }]\n",
    "\n",
    "grid_search = GridSearchCV(lasso_pipe,param_grid, cv=5, scoring='neg_mean_squared_error',return_train_score=True,verbose=0)\n",
    "grid_search.fit(X_train, y_train)"
   ]
  },
  {
   "cell_type": "code",
   "execution_count": 33,
   "metadata": {},
   "outputs": [
    {
     "name": "stdout",
     "output_type": "stream",
     "text": [
      "{'lasso__alpha': 0.2, 'polynomialfeatures__degree': 3, 'polynomialfeatures__interaction_only': False}\n",
      "MSE Train: 145248.910180241\n",
      "MSE Test: 146982.123190095\n",
      "r2 Train: 0.29645404357569205\n",
      "r2 Test: 0.27674724015749574\n"
     ]
    }
   ],
   "source": [
    "best_lr=grid_search.best_estimator_\n",
    "print(grid_search.best_params_)\n",
    "print( \"MSE Train: {}\".format(mean_squared_error(y_train, best_lr.predict(X_train))))\n",
    "print( \"MSE Test: {}\".format(mean_squared_error(y_test, best_lr.predict(X_test))))\n",
    "\n",
    "print( \"r2 Train: {}\".format(r2_score(y_train, best_lr.predict(X_train))))\n",
    "print( \"r2 Test: {}\".format(r2_score(y_test, best_lr.predict(X_test))))"
   ]
  },
  {
   "cell_type": "markdown",
   "metadata": {},
   "source": [
    "### Ridge with Grid Search"
   ]
  },
  {
   "cell_type": "code",
   "execution_count": 34,
   "metadata": {},
   "outputs": [
    {
     "data": {
      "text/plain": [
       "GridSearchCV(cv=5,\n",
       "             estimator=Pipeline(steps=[('polynomialfeatures',\n",
       "                                        PolynomialFeatures()),\n",
       "                                       ('standardscaler', StandardScaler()),\n",
       "                                       ('ridge', Ridge())]),\n",
       "             param_grid=[{'polynomialfeatures__degree': [1, 2, 3],\n",
       "                          'polynomialfeatures__interaction_only': [True, False],\n",
       "                          'ridge__alpha': [0.1, 0.2, 0.3, 0.4, 0.5, 0.6, 0.7,\n",
       "                                           0.8, 0.9, 1.0]}],\n",
       "             return_train_score=True, scoring='neg_mean_squared_error')"
      ]
     },
     "execution_count": 34,
     "metadata": {},
     "output_type": "execute_result"
    }
   ],
   "source": [
    "ridge_pipe = make_pipeline(PolynomialFeatures(2), StandardScaler(), Ridge())\n",
    "# print(ridge_pipe.get_params().keys())\n",
    "param_grid = [{'polynomialfeatures__interaction_only': [True,False], \n",
    "               'polynomialfeatures__degree': [1,2,3],\n",
    "               'ridge__alpha': [0.1,0.2,0.3,0.4,0.5,0.6,0.7,0.8,0.9,1.0]\n",
    "              }]\n",
    "\n",
    "grid_search = GridSearchCV(ridge_pipe,param_grid, cv=5, scoring='neg_mean_squared_error',return_train_score=True,verbose=0)\n",
    "grid_search.fit(X_train, y_train)"
   ]
  },
  {
   "cell_type": "code",
   "execution_count": 35,
   "metadata": {},
   "outputs": [
    {
     "name": "stdout",
     "output_type": "stream",
     "text": [
      "{'polynomialfeatures__degree': 3, 'polynomialfeatures__interaction_only': False, 'ridge__alpha': 1.0}\n",
      "MSE Train: 144823.36383906822\n",
      "MSE Test: 147342.25483304125\n",
      "r2 Train: 0.29851527355140584\n",
      "r2 Test: 0.274975145708087\n"
     ]
    }
   ],
   "source": [
    "best_lr=grid_search.best_estimator_\n",
    "print(grid_search.best_params_)\n",
    "print( \"MSE Train: {}\".format(mean_squared_error(y_train, best_lr.predict(X_train))))\n",
    "print( \"MSE Test: {}\".format(mean_squared_error(y_test, best_lr.predict(X_test))))\n",
    "\n",
    "print( \"r2 Train: {}\".format(r2_score(y_train, best_lr.predict(X_train))))\n",
    "print( \"r2 Test: {}\".format(r2_score(y_test, best_lr.predict(X_test))))"
   ]
  },
  {
   "cell_type": "code",
   "execution_count": null,
   "metadata": {},
   "outputs": [],
   "source": []
  },
  {
   "cell_type": "code",
   "execution_count": 36,
   "metadata": {},
   "outputs": [],
   "source": [
    "class CustomGDRegressor(object):\n",
    "    def __init__(self, input_size, output_size=1):\n",
    "        self.input_size = input_size+1\n",
    "        self.output_size = output_size\n",
    "        self.B =  np.random.randn( self.output_size, self.input_size,)\n",
    "        self.cost = []\n",
    "        \n",
    "    def errors(self, y_pred, y):\n",
    "        return y-y_pred\n",
    "    \n",
    "    def predict(self, X):\n",
    "        return  np.dot(self.B, X.T).T\n",
    "    \n",
    "    def cost_function(self, errors):\n",
    "        return (1/(2*len(errors))) * sum(errors*errors)\n",
    "    \n",
    "    def fit_by_input(self, _X, y):\n",
    "        x_len = len(_X)\n",
    "        y_len = len(y)\n",
    "        y = y.reshape(y_len, 1)\n",
    "        X = np.c_[np.ones(x_len),_X]\n",
    "        \n",
    "        if x_len != y_len:\n",
    "            raise(\"X and y not same length\")\n",
    "            \n",
    "        iter_count = 1000\n",
    "        lr = 0.01\n",
    "        \n",
    "        for _ in range(iter_count):\n",
    "            w_ = np.zeros((1, self.input_size))\n",
    "            for x_, y_ in zip(X, y):\n",
    "                \n",
    "                y_p = np.dot(x_, self.B.T)\n",
    "                err = y_-y_p\n",
    "                \n",
    "                w_ += err * x_\n",
    "                \n",
    "            self.B +=w_ * lr *(1/x_len)\n",
    "            \n",
    "            self.cost.append(sum(self.errors(self.predict(X), y)**2))\n",
    "        return self.B\n",
    "        \n",
    "    def fit(self, _X, y):\n",
    "        \n",
    "        def learning_rate(lr, decay=1.1):\n",
    "            return max(0.000001, lr/decay)\n",
    "        \n",
    "        x_len = len(_X)\n",
    "        y_len = len(y)\n",
    "        y = y.reshape(y_len, 1)\n",
    "        X = np.c_[np.ones(x_len),_X]\n",
    "        \n",
    "        if x_len != y_len:\n",
    "            raise(\"X and y not same length\")\n",
    "            \n",
    "        iter_count = 1000\n",
    "        lr = 0.01\n",
    "        for _ in range(iter_count):\n",
    "            y_p = self.predict(X)\n",
    "            \n",
    "            err = self.errors(y_p, y)\n",
    "            self.B[0] = self.B[0] + lr * (1/x_len)*sum(err)\n",
    "            \n",
    "            err_ = err*X\n",
    "        \n",
    "            self.B = self.B + lr * sum(err_)*(1/x_len)\n",
    "            self.cost.append(sum(self.errors(self.predict(X), y)**2))\n",
    "            lr = learning_rate(lr,decay=1)\n",
    "        return self.B\n",
    "    \n",
    "    def fit_matrix_method(self, _X, y):\n",
    "        \"\"\" (X'X)^-1 X'Y = b \"\"\"\n",
    "        X = np.c_[np.ones(len(_X)),_X]\n",
    "        self.B = matmul(matmul(inv( matmul(X.T,X)),X.T),y)\n",
    "        self.cost.append(sum(self.errors(self.predict(X), y)**2))\n",
    "        return self.B\n",
    "        \n",
    "        "
   ]
  }
 ],
 "metadata": {
  "kernelspec": {
   "display_name": "Python 3",
   "language": "python",
   "name": "python3"
  },
  "language_info": {
   "codemirror_mode": {
    "name": "ipython",
    "version": 3
   },
   "file_extension": ".py",
   "mimetype": "text/x-python",
   "name": "python",
   "nbconvert_exporter": "python",
   "pygments_lexer": "ipython3",
   "version": "3.8.3"
  }
 },
 "nbformat": 4,
 "nbformat_minor": 4
}
